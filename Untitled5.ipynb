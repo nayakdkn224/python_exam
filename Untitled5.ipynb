{
  "nbformat": 4,
  "nbformat_minor": 0,
  "metadata": {
    "colab": {
      "provenance": []
    },
    "kernelspec": {
      "name": "python3",
      "display_name": "Python 3"
    },
    "language_info": {
      "name": "python"
    }
  },
  "cells": [
    {
      "cell_type": "markdown",
      "source": [
        "#1) In Python Programming, how many types of errors are possible\n",
        "#and define them.\n",
        "\n",
        "Ans:-  in python they are 2 types of errors .one is syntas eror and other is logical error\n",
        "-->syntax error only we will able find when we will not folled the syntax .\n",
        "\n",
        "-->  and #logocal error are the run time error after passing the syntax , they are many types\n",
        "----> #a- ZeroDivision,indexError - ImportError,NameError ,TypeError,AttributeError etc ....\n"
      ],
      "metadata": {
        "id": "nZkcGBBnt6-f"
      }
    },
    {
      "cell_type": "code",
      "execution_count": null,
      "metadata": {
        "id": "sqy1Yj4LsuCV"
      },
      "outputs": [],
      "source": [
        " #syntax error here i fort to put semiclon\n",
        " a=12\n",
        " if(a>b)\n",
        "\n"
      ]
    },
    {
      "cell_type": "code",
      "source": [
        "\n",
        "#@one example is ZeroDivision\n",
        "a=100\n",
        "c=a/0\n",
        "print(c)"
      ],
      "metadata": {
        "id": "QpC_e8hgu-cU"
      },
      "execution_count": null,
      "outputs": []
    },
    {
      "cell_type": "markdown",
      "source": [
        "**Q2- 2) What is an Exception and write the syntax of exception handling?**\n",
        "\n",
        "Ans:-  Exception or logical errors are same\n",
        "they are  ZeroDivision,indexError - ImportError,NameError ,TypeError,AttributeError etc ..\n",
        "\n"
      ],
      "metadata": {
        "id": "u4xK_5DYwst9"
      }
    },
    {
      "cell_type": "code",
      "source": [
        "#block resolve\n",
        "x=5\n",
        "y=\"i am \"\n",
        "try:\n",
        "  z=a+y\n",
        "except TypeError:\n",
        "  print(\"intger and string can't add:\")"
      ],
      "metadata": {
        "colab": {
          "base_uri": "https://localhost:8080/"
        },
        "id": "zEYGYi17zrpB",
        "outputId": "db54da6f-34c3-4fbf-db2a-3d38b5ce0751"
      },
      "execution_count": 5,
      "outputs": [
        {
          "output_type": "stream",
          "name": "stdout",
          "text": [
            "intger and string can't add:\n"
          ]
        }
      ]
    },
    {
      "cell_type": "markdown",
      "source": [
        "**3) Define User-Defined Exceptions in Python Programming.**\n",
        "Ans:-"
      ],
      "metadata": {
        "id": "6OIquXgB0kcm"
      }
    },
    {
      "cell_type": "code",
      "source": [
        "class AgeExceptionforVoting(Exception):\n",
        "\n",
        "  def __init__(self,arg):\n",
        "    self.msg=arg\n",
        "Age=int(input(\"enter the age of voter:\"))\n",
        "\n",
        "try:\n",
        "  if Age>60:\n",
        "    rasie AgeExceptionforVoting(\"you are too old to cast your vote\")\n",
        "  elif Age<18:\n",
        "    raise AgeExceptionforVoting(\"you are too young to cast your vote\")\n",
        "  else:\n",
        "    print(\"congratulation you are eligible to cast your vote\")\n",
        "except AgeExceptionforVoting as error:\n",
        "  print(error)"
      ],
      "metadata": {
        "id": "UkKpS-WC4px9"
      },
      "execution_count": null,
      "outputs": []
    },
    {
      "cell_type": "markdown",
      "source": [
        "4-->  Write a Python Program to demonstrate how a user can\n",
        "customize the exceptions using User-Defined Exception  **bold text**\n",
        "\n",
        "```\n",
        "# This is formatted as code\n",
        "```\n",
        "\n"
      ],
      "metadata": {
        "id": "lCDfsg6Y1Gjx"
      }
    },
    {
      "cell_type": "code",
      "source": [
        "class BalException(Exception):\n",
        "  def __init__(self,msg):\n",
        "    self.msg=msg\n",
        "customerid=\"34564345\"\n",
        "coustomername=\"deepak\"\n",
        "balance=50000\n",
        "\n",
        "amount= int(input(\"enter the amount for withdrwal\"))\n",
        "if(amount>balance):\n",
        "  print(\"insufficent funds in your account\")\n",
        "else:\n",
        "  try:\n",
        "    balance=balance-amount\n",
        "    if (balance<50000)\n",
        "    balance=balance+amount\n",
        "    raise BalException(\"minimum balance should be maintained is 5000:\")\n",
        " except BalException as be:\n",
        "  print(be)\n",
        "finally:\n",
        "  print(\"the remaining balance is:\",balance)"
      ],
      "metadata": {
        "id": "DfroY2N-3ker"
      },
      "execution_count": null,
      "outputs": []
    },
    {
      "cell_type": "code",
      "source": [],
      "metadata": {
        "id": "rigPZDzQ1L0j"
      },
      "execution_count": null,
      "outputs": []
    }
  ]
}